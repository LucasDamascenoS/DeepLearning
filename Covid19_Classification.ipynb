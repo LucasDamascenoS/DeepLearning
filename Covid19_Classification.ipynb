{
  "cells": [
    {
      "cell_type": "markdown",
      "metadata": {},
      "source": [
        "<a href=\"https://colab.research.google.com/github/LucasDamascenoS/DeepLearning/blob/main/Covid19_Classification.ipynb\" target=\"_parent\"><img src=\"https://colab.research.google.com/assets/colab-badge.svg\" alt=\"Open In Colab\"/></a>"
      ]
    },
    {
      "cell_type": "markdown",
      "metadata": {
        "id": "Dn2Y0he1zwia"
      },
      "source": [
        "Implementation of the paper **CoroNet: A deep neural network for detection and diagnosis of COVID-19 from chest x-ray images**\n",
        "\n",
        "The dataset used and CNN models can be found at: https://nextcloud.lasseufpa.org/s/JrxKko4NG5mFg2x"
      ]
    },
    {
      "cell_type": "markdown",
      "metadata": {},
      "source": [
        "- If running on Google Colab, run the 2 cells below"
      ]
    },
    {
      "cell_type": "code",
      "execution_count": null,
      "metadata": {
        "id": "PkltHzFYdYG-"
      },
      "outputs": [],
      "source": [
        "# mount Google Drive\n",
        "from google.colab import drive\n",
        "drive.mount('/content/drive')"
      ]
    },
    {
      "cell_type": "code",
      "execution_count": null,
      "metadata": {
        "id": "YcCf_hSEd03E"
      },
      "outputs": [],
      "source": [
        "# unzip dataset and models\n",
        "# specify the path on your Drive where the dataset.zip and models.zip is saved\n",
        "!unzip /content/drive/MyDrive/Colab\\ Notebooks/Master\\'s/Computational\\ Intelligence/dataset.zip\n",
        "!unzip /content/drive/MyDrive/Colab\\ Notebooks/Master\\'s/Computational\\ Intelligence/models.zip"
      ]
    },
    {
      "cell_type": "code",
      "execution_count": null,
      "metadata": {
        "id": "UeGT6Ruwd9xF"
      },
      "outputs": [],
      "source": [
        "# import libraries and packages\n",
        "import cv2, os\n",
        "import numpy as np\n",
        "import tensorflow as tf\n",
        "import matplotlib.pyplot as plt\n",
        "import matplotlib.font_manager\n",
        "\n",
        "from os import listdir\n",
        "from numpy.random import seed\n",
        "from skimage import transform\n",
        "\n",
        "from tensorflow.keras.models import Sequential\n",
        "from tensorflow.keras.models import Model, load_model\n",
        "from tensorflow.keras.layers import Flatten, Dense, Dropout\n",
        "from tensorflow.keras.optimizers import Adam\n",
        "from tensorflow.keras.applications import Xception\n",
        "from tensorflow.keras.preprocessing.image import ImageDataGenerator\n",
        "\n",
        "from sklearn.metrics import confusion_matrix\n",
        "from sklearn.metrics import classification_report\n",
        "\n",
        "seed(8)\n",
        "tf.random.set_seed(7)"
      ]
    },
    {
      "cell_type": "markdown",
      "metadata": {
        "id": "Z1FnfA5q1Fes"
      },
      "source": [
        "**Crete Data Generators to preprocess and prepare training and validation**"
      ]
    },
    {
      "cell_type": "code",
      "execution_count": null,
      "metadata": {
        "id": "UI4rtDNK1QqJ"
      },
      "outputs": [],
      "source": [
        "# load the specific folder from the dataset and .hs file corresponding to the number of classes that you want to classify\n",
        "\n",
        "# 0 - 2 classes: covid and normal\n",
        "# 1 - 3 classes: covid, normal and pneumonia\n",
        "# 2 - 4 classes: covid, normal, pneumonia bacterial and pneumonia viral\n",
        "numberClasses = 0\n",
        "\n",
        "# parameter to specify if running on Google Colab or Local\n",
        "# 0 - running Local\n",
        "# 1 - running on Google Colab\n",
        "runColab = 0\n",
        "\n",
        "if numberClasses == 0 and runColab == 0:\n",
        "    DATASET_PATH = './dataset/two_classes'\n",
        "    TRAIN_PATH = './dataset/two_classes/train'\n",
        "    TEST_PATH = './dataset/two_classes/test'\n",
        "    MODEL_PATH = './models/two_classes.h5'\n",
        "    MODEL_NAME = 'two_classes.h5'\n",
        "    CLASS_MODE = 'categorical'\n",
        "    LOSS = 'categorical_crossentropy'\n",
        "    ACTIVATION = 'softmax'\n",
        "    LABELS = [\"covid\", \"normal\"]\n",
        "\n",
        "elif numberClasses == 1 and runColab == 0:\n",
        "    DATASET_PATH = './dataset/three_classes'\n",
        "    TRAIN_PATH = './dataset/three_classes/train'\n",
        "    TEST_PATH = './dataset/three_classes/test'\n",
        "    MODEL_PATH = './models/three_classes.h5'\n",
        "    MODEL_NAME = 'three_classes.h5'\n",
        "    CLASS_MODE = 'categorical'\n",
        "    LOSS = 'categorical_crossentropy'\n",
        "    ACTIVATION = 'softmax'\n",
        "    LABELS = [\"covid\", \"normal\", \"pneumonia\"]\n",
        "\n",
        "elif numberClasses == 2 and runColab == 0:\n",
        "    DATASET_PATH = './dataset/four_classes'\n",
        "    TRAIN_PATH = './dataset/four_classes/train'\n",
        "    TEST_PATH = './dataset/four_classes/test'\n",
        "    MODEL_PATH = './models/four_classes.h5'\n",
        "    MODEL_NAME = 'four_classes.h5'\n",
        "    CLASS_MODE = 'categorical'\n",
        "    LOSS = 'categorical_crossentropy'\n",
        "    ACTIVATION = 'softmax'\n",
        "    LABELS = [\"covid\", \"normal\", \"pneumonia_bac\", \"pneumonia_vir\"]\n",
        "\n",
        "elif numberClasses == 0 and runColab == 1:\n",
        "    DATASET_PATH = '/content/dataset/two_classes'\n",
        "    TRAIN_PATH = '/content/dataset/two_classes/train'\n",
        "    TEST_PATH = '/content/dataset/two_classes/test'\n",
        "    MODEL_PATH = '/content/models/two_classes.h5'\n",
        "    MODEL_NAME = 'two_classes.h5'\n",
        "    CLASS_MODE = 'categorical'\n",
        "    LOSS = 'categorical_crossentropy'\n",
        "    ACTIVATION = 'softmax'\n",
        "    LABELS = [\"covid\", \"normal\"]\n",
        "\n",
        "elif numberClasses == 1 and runColab == 1:\n",
        "    DATASET_PATH = '/content/dataset/three_classes'\n",
        "    TRAIN_PATH = '/content/dataset/three_classes/train'\n",
        "    TEST_PATH = '/content/dataset/three_classes/test'\n",
        "    MODEL_PATH = '/content/models/three_classes.h5'\n",
        "    MODEL_NAME = 'three_classes.h5'\n",
        "    CLASS_MODE = 'categorical'\n",
        "    LOSS = 'categorical_crossentropy'\n",
        "    ACTIVATION = 'softmax'\n",
        "    LABELS = [\"covid\", \"normal\", \"pneumonia\"]\n",
        "\n",
        "elif numberClasses == 2 and runColab == 1:\n",
        "    DATASET_PATH = '/content/dataset/four_classes'\n",
        "    TRAIN_PATH = '/content/dataset/four_classes/train'\n",
        "    TEST_PATH = '/content/dataset/four_classes/test'\n",
        "    MODEL_PATH = '/content/models/four_classes.h5'\n",
        "    MODEL_NAME = 'four_classes.h5'\n",
        "    CLASS_MODE = 'categorical'\n",
        "    LOSS = 'categorical_crossentropy'\n",
        "    ACTIVATION = 'softmax'\n",
        "    LABELS = [\"covid\", \"normal\", \"pneumonia_bac\", \"pneumonia_vir\"]"
      ]
    },
    {
      "cell_type": "code",
      "execution_count": null,
      "metadata": {
        "id": "ic6fKrSs2-Bx"
      },
      "outputs": [],
      "source": [
        "IMAGE_SIZE    = (150, 150)\n",
        "NUM_CLASSES   = len(listdir(TRAIN_PATH))\n",
        "BATCH_SIZE    = 10\n",
        "NUM_EPOCHS    = 10\n",
        "LEARNING_RATE =0.0001\n",
        "\n",
        "# train datagen here is a preprocessor\n",
        "train_datagen = ImageDataGenerator(rescale=1./255,\n",
        "                                   rotation_range=50,\n",
        "                                   featurewise_center = True,\n",
        "                                   featurewise_std_normalization = True,\n",
        "                                   width_shift_range=0.2,\n",
        "                                   height_shift_range=0.2,\n",
        "                                   shear_range=0.25,\n",
        "                                   zoom_range=0.1,\n",
        "                                   zca_whitening = True,\n",
        "                                   channel_shift_range = 20,\n",
        "                                   horizontal_flip = True ,\n",
        "                                   vertical_flip = True ,\n",
        "                                   validation_split = 0.2,\n",
        "                                   fill_mode='constant')\n",
        "\n",
        "train_batches = train_datagen.flow_from_directory(TRAIN_PATH,\n",
        "                                                  target_size=IMAGE_SIZE,\n",
        "                                                  shuffle=True,\n",
        "                                                  batch_size=BATCH_SIZE,\n",
        "                                                  subset = \"training\",\n",
        "                                                  seed=42,\n",
        "                                                  class_mode=CLASS_MODE\n",
        "                                                  )\n",
        "\n",
        "valid_batches = train_datagen.flow_from_directory(TRAIN_PATH,\n",
        "                                                  target_size=IMAGE_SIZE,\n",
        "                                                  shuffle=True,\n",
        "                                                  batch_size=BATCH_SIZE,\n",
        "                                                  subset = \"validation\",\n",
        "                                                  seed=42,\n",
        "                                                  class_mode=CLASS_MODE\n",
        "                                                  )"
      ]
    },
    {
      "cell_type": "markdown",
      "metadata": {
        "id": "UOvJMpGv30ZY"
      },
      "source": [
        "**CNN Model**"
      ]
    },
    {
      "cell_type": "code",
      "execution_count": null,
      "metadata": {
        "id": "j9vZU8DjeCyP"
      },
      "outputs": [],
      "source": [
        "# this cell will create a CNN model\n",
        "# if you already have a model, skip the next 4 cells and run the next one\n",
        "conv_base = Xception(weights='imagenet',\n",
        "                     include_top=False,\n",
        "                     input_shape=(150, 150, 3)\n",
        "                     )\n",
        "\n",
        "conv_base.trainable = True\n",
        "\n",
        "model = Sequential()\n",
        "model.add(conv_base)\n",
        "model.add(Flatten())\n",
        "model.add(Dropout(0.5))\n",
        "model.add(Dense(256, activation='relu'))\n",
        "model.add(Dense(NUM_CLASSES, activation=ACTIVATION))\n",
        "\n",
        "model.compile(loss=LOSS,\n",
        "              optimizer=Adam(learning_rate=LEARNING_RATE),\n",
        "              metrics=['acc']\n",
        "              )\n",
        "\n",
        "model.summary()"
      ]
    },
    {
      "cell_type": "code",
      "execution_count": null,
      "metadata": {
        "id": "-YK5XpyyeEUf"
      },
      "outputs": [],
      "source": [
        "# training the model\n",
        "print(len(train_batches))\n",
        "print(len(valid_batches))\n",
        "\n",
        "STEP_SIZE_TRAIN=train_batches.n//train_batches.batch_size\n",
        "STEP_SIZE_VALID=valid_batches.n//valid_batches.batch_size\n",
        "\n",
        "result=model.fit(train_batches,\n",
        "                 steps_per_epoch =STEP_SIZE_TRAIN,\n",
        "                 validation_data = valid_batches,\n",
        "                 validation_steps = STEP_SIZE_VALID,\n",
        "                 epochs= NUM_EPOCHS,\n",
        "                )"
      ]
    },
    {
      "cell_type": "code",
      "execution_count": null,
      "metadata": {
        "id": "CdKCpBjheGtR"
      },
      "outputs": [],
      "source": [
        "# plot the accuracy and loss graphs\n",
        "def plot_acc_loss(result, epochs):\n",
        "  acc = result.history['acc']\n",
        "  loss = result.history['loss']\n",
        "  val_acc = result.history['val_acc']\n",
        "  val_loss = result.history['val_loss']\n",
        "  plt.figure(figsize=(15, 5))\n",
        "  plt.subplot(121)\n",
        "  plt.plot(range(1,epochs), acc[1:], label='Train_acc')\n",
        "  plt.plot(range(1,epochs), val_acc[1:], label='Val_acc')\n",
        "  plt.title('Accuracy over ' + str(epochs) + ' Epochs', size=15)\n",
        "  plt.legend()\n",
        "  plt.grid(True)\n",
        "  plt.subplot(122)\n",
        "  plt.plot(range(1,epochs), loss[1:], label='Train_loss')\n",
        "  plt.plot(range(1,epochs), val_loss[1:], label='Val_loss')\n",
        "  plt.title('Loss over ' + str(epochs) + ' Epochs', size=15)\n",
        "  plt.legend()\n",
        "  plt.grid(True)\n",
        "  plt.show()\n",
        "    \n",
        "plot_acc_loss(result, NUM_EPOCHS)"
      ]
    },
    {
      "cell_type": "code",
      "execution_count": null,
      "metadata": {
        "id": "bhZJNt18eIzQ"
      },
      "outputs": [],
      "source": [
        "# save the trained model\n",
        "model.save(MODEL_NAME)"
      ]
    },
    {
      "cell_type": "code",
      "execution_count": null,
      "metadata": {
        "id": "-8NHwWOBfYU2"
      },
      "outputs": [],
      "source": [
        "# load saved model from .hs file\n",
        "model = load_model(MODEL_PATH)\n",
        "print(model.summary())"
      ]
    },
    {
      "cell_type": "markdown",
      "metadata": {
        "id": "tcFqSdRX9Rt1"
      },
      "source": [
        "**Crete Data Generators to test and evaluate**"
      ]
    },
    {
      "cell_type": "code",
      "execution_count": null,
      "metadata": {
        "id": "GetLC54oeKt6"
      },
      "outputs": [],
      "source": [
        "test_datagen = ImageDataGenerator(rescale=1. / 255)\n",
        "\n",
        "eval_generator = test_datagen.flow_from_directory(TEST_PATH,\n",
        "                                                  target_size=IMAGE_SIZE,\n",
        "                                                  batch_size=1,\n",
        "                                                  shuffle=False,\n",
        "                                                  seed=42,\n",
        "                                                  class_mode=CLASS_MODE\n",
        "                                                  )\n",
        "\n",
        "eval_generator.reset()"
      ]
    },
    {
      "cell_type": "code",
      "execution_count": null,
      "metadata": {
        "id": "fBQF1ktkeM_D"
      },
      "outputs": [],
      "source": [
        "# evalute the trained model on evaluate generator\n",
        "eval_generator.reset()  \n",
        "\n",
        "x = model.evaluate_generator(eval_generator,\n",
        "                             steps = np.ceil(len(eval_generator)),\n",
        "                             use_multiprocessing = False,\n",
        "                             verbose = 1,\n",
        "                             workers=1,\n",
        "                             )\n",
        "\n",
        "print('Test loss:' , x[0])\n",
        "print('Test accuracy:',x[1])"
      ]
    },
    {
      "cell_type": "markdown",
      "metadata": {
        "id": "b63gPxm3_WAh"
      },
      "source": [
        "**Crete Data Generators on single folder/class from test and predict**"
      ]
    },
    {
      "cell_type": "code",
      "execution_count": null,
      "metadata": {
        "id": "pQwI8NNseO4v"
      },
      "outputs": [],
      "source": [
        "test_datagen = ImageDataGenerator(rescale=1. / 255)\n",
        "\n",
        "pred_generator = test_datagen.flow_from_directory(TEST_PATH,\n",
        "                                                  target_size=IMAGE_SIZE,\n",
        "                                                  batch_size=1,\n",
        "                                                  shuffle=False,\n",
        "                                                  seed=42,\n",
        "                                                  class_mode=CLASS_MODE\n",
        "                                                  )\n",
        "\n",
        "pred_generator.reset()   \n",
        "\n",
        "count=[0]*NUM_CLASSES\n",
        "files=pred_generator.filenames\n",
        "\n",
        "for i in range(len(files)):\n",
        "  x,y = pred_generator.next()\n",
        "  img = x\n",
        "  predict=model.predict(img)\n",
        "  \n",
        "  p=np.argmax(predict, axis=-1)\n",
        "  print(str(p[0])+\" \"+files[pred_generator.batch_index-1])\n",
        "  count[p[0]]+=1 \n",
        "\n",
        "print(count)"
      ]
    },
    {
      "cell_type": "code",
      "execution_count": null,
      "metadata": {
        "id": "sK0vyKxoeRL6"
      },
      "outputs": [],
      "source": [
        "filenames = eval_generator.filenames\n",
        "nb_samples = len(filenames)\n",
        "eval_generator.reset()  \n",
        "predict = model.predict_generator(eval_generator,steps = np.ceil(len(eval_generator)))\n",
        "pp=predict\n",
        "predict=np.argmax(predict, axis=-1)\n",
        "classes= eval_generator.classes[eval_generator.index_array]\n",
        "acc=sum(predict==classes)/len(predict)\n",
        "names=LABELS\n",
        "\n",
        "font = {\n",
        "    'family': 'DeJavu Serif',\n",
        "    'serif': 'Times New Roman',\n",
        "    'size': 12\n",
        "    }\n",
        "\n",
        "plt.rc('font', **font)\n",
        "\n",
        "cm = confusion_matrix(classes, predict)\n",
        "\n",
        "print(cm)\n",
        "print(classification_report(classes,predict))\n",
        "\n",
        "plt.imshow(cm, cmap=plt.cm.Blues)\n",
        "plt.xlabel('Predicted labels \\nAccuracy: {:0.2f}'.format(acc*100))\n",
        "plt.ylabel(\"True labels\")\n",
        "plt.xticks(classes, [])\n",
        "plt.yticks(classes, [])\n",
        "plt.title('Confusion matrix ')\n",
        "plt.colorbar()\n",
        "plt.show()"
      ]
    },
    {
      "cell_type": "markdown",
      "metadata": {
        "id": "XRpj8zQpB7ca"
      },
      "source": [
        "**Evaluate the model on a single image**"
      ]
    },
    {
      "cell_type": "code",
      "execution_count": null,
      "metadata": {
        "id": "5rcvUJBVeTco"
      },
      "outputs": [],
      "source": [
        "# use one of the following img_path to evaluate the model on a single image\n",
        "# you can use any of the images on the dataset, these are only examples\n",
        "\n",
        "# for 2 classes: covid and normal\n",
        "img_path = TEST_PATH + '/covid/covid_13.jpeg'\n",
        "#img_path = TEST_PATH + '/normal/normal_192.jpeg'\n",
        "\n",
        "# for 3 classes: covid, normal and pneumonia\n",
        "#img_path = TEST_PATH + '/covid/covid_13.jpeg'\n",
        "#img_path = TEST_PATH + '/normal/normal_192.jpeg'\n",
        "#img_path = TEST_PATH + '/pneumonia/pneumonia_196.jpeg'\n",
        "\n",
        "# for 4 classes: covid, normal, pneumonia bacterial and pneumonia viral\n",
        "#img_path = TEST_PATH + '/covid/covid_13.jpeg'\n",
        "#img_path = TEST_PATH + '/normal/normal_192.jpeg'\n",
        "#img_path = TEST_PATH + '/pneumonia_bacterial/pneumonia_bacterial_104.jpeg'\n",
        "#img_path = TEST_PATH + '/pneumonia_viral/pneumonia_viral_79.jpeg'\n",
        "\n",
        "img_r = cv2.imread(img_path)\n",
        "img1 = np.array(img_r).astype('float32')/255\n",
        "img2 = transform.resize(img1, (150, 150, 3))\n",
        "img = np.expand_dims(img2, axis=0)\n",
        "\n",
        "r=model.predict(img)\n",
        "\n",
        "scores=r\n",
        "print(scores)\n",
        "\n",
        "font = {\n",
        "    'family': 'DeJavu Serif',\n",
        "    'serif': 'Times New Roman',\n",
        "    'size': 9\n",
        "    }\n",
        "\n",
        "plt.rc('font', **font)\n",
        "\n",
        "if numberClasses == 0:\n",
        "    plt.title(names[0] +\" \"+ str(round(scores[0][0]*100,1))+\"%\"+\"\\n\"+names[1] +\" \"+ str(round(scores[0][1]*100,1)))\n",
        "elif numberClasses == 1:\n",
        "    plt.title(names[0] +\" \"+ str(round(scores[0][0]*100,1))+\"%\"+\"\\n\"+names[1] +\" \"+ str(round(scores[0][1]*100,1))+\"%\"+\"\\n\"+names[2] +\" \"+ str(round(scores[0][2]*100,1)))\n",
        "else:\n",
        "    plt.title(names[0] +\" \"+ str(round(scores[0][0]*100,1))+\"%\"+\"\\n\"+names[1] +\" \"+ str(round(scores[0][1]*100,1))+\"%\"+\"\\n\"+names[2] +\" \"+ str(round(scores[0][2]*100,1))+\"%\"+\"\\n\"+names[3] +\" \"+ str(round(scores[0][3]*100,1))+\"%\")\n",
        "plt.imshow(img2)"
      ]
    }
  ],
  "metadata": {
    "accelerator": "GPU",
    "colab": {
      "collapsed_sections": [],
      "provenance": []
    },
    "gpuClass": "standard",
    "kernelspec": {
      "display_name": "Python 3.9.13 ('temp')",
      "language": "python",
      "name": "python3"
    },
    "language_info": {
      "codemirror_mode": {
        "name": "ipython",
        "version": 3
      },
      "file_extension": ".py",
      "mimetype": "text/x-python",
      "name": "python",
      "nbconvert_exporter": "python",
      "pygments_lexer": "ipython3",
      "version": "3.9.13"
    },
    "vscode": {
      "interpreter": {
        "hash": "6deebc637ab3486ea6352a781976318838430d014a010feba304e709b49797a8"
      }
    }
  },
  "nbformat": 4,
  "nbformat_minor": 0
}
